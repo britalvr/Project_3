{
 "cells": [
  {
   "cell_type": "markdown",
   "metadata": {},
   "source": [
    "Project 3 Idea: What Factors Are Most Important To Happiness Based on 2017 World Happiness Report Data 🤞"
   ]
  },
  {
   "cell_type": "code",
   "execution_count": 1,
   "metadata": {},
   "outputs": [
    {
     "data": {
      "text/html": [
       "<div>\n",
       "<style scoped>\n",
       "    .dataframe tbody tr th:only-of-type {\n",
       "        vertical-align: middle;\n",
       "    }\n",
       "\n",
       "    .dataframe tbody tr th {\n",
       "        vertical-align: top;\n",
       "    }\n",
       "\n",
       "    .dataframe thead th {\n",
       "        text-align: right;\n",
       "    }\n",
       "</style>\n",
       "<table border=\"1\" class=\"dataframe\">\n",
       "  <thead>\n",
       "    <tr style=\"text-align: right;\">\n",
       "      <th></th>\n",
       "      <th>Country</th>\n",
       "      <th>EconomyGDPperCapita</th>\n",
       "      <th>Family</th>\n",
       "      <th>HealthLifeExpectancy</th>\n",
       "      <th>Freedom</th>\n",
       "      <th>Generosity</th>\n",
       "      <th>TrustGovernmentCorruption</th>\n",
       "      <th>DystopiaResidual</th>\n",
       "      <th>HappinessRank</th>\n",
       "      <th>HappinessScore</th>\n",
       "      <th>Whiskerhigh</th>\n",
       "      <th>Whiskerlow</th>\n",
       "    </tr>\n",
       "  </thead>\n",
       "  <tbody>\n",
       "    <tr>\n",
       "      <th>0</th>\n",
       "      <td>Norway</td>\n",
       "      <td>1.616463</td>\n",
       "      <td>1.533524</td>\n",
       "      <td>0.796667</td>\n",
       "      <td>0.635423</td>\n",
       "      <td>0.362012</td>\n",
       "      <td>0.315964</td>\n",
       "      <td>2.277027</td>\n",
       "      <td>1</td>\n",
       "      <td>7.537</td>\n",
       "      <td>7.594445</td>\n",
       "      <td>7.479556</td>\n",
       "    </tr>\n",
       "    <tr>\n",
       "      <th>1</th>\n",
       "      <td>Denmark</td>\n",
       "      <td>1.482383</td>\n",
       "      <td>1.551122</td>\n",
       "      <td>0.792566</td>\n",
       "      <td>0.626007</td>\n",
       "      <td>0.355280</td>\n",
       "      <td>0.400770</td>\n",
       "      <td>2.313707</td>\n",
       "      <td>2</td>\n",
       "      <td>7.522</td>\n",
       "      <td>7.581728</td>\n",
       "      <td>7.462272</td>\n",
       "    </tr>\n",
       "    <tr>\n",
       "      <th>2</th>\n",
       "      <td>Iceland</td>\n",
       "      <td>1.480633</td>\n",
       "      <td>1.610574</td>\n",
       "      <td>0.833552</td>\n",
       "      <td>0.627163</td>\n",
       "      <td>0.475540</td>\n",
       "      <td>0.153527</td>\n",
       "      <td>2.322715</td>\n",
       "      <td>3</td>\n",
       "      <td>7.504</td>\n",
       "      <td>7.622030</td>\n",
       "      <td>7.385970</td>\n",
       "    </tr>\n",
       "    <tr>\n",
       "      <th>3</th>\n",
       "      <td>Switzerland</td>\n",
       "      <td>1.564980</td>\n",
       "      <td>1.516912</td>\n",
       "      <td>0.858131</td>\n",
       "      <td>0.620071</td>\n",
       "      <td>0.290549</td>\n",
       "      <td>0.367007</td>\n",
       "      <td>2.276716</td>\n",
       "      <td>4</td>\n",
       "      <td>7.494</td>\n",
       "      <td>7.561772</td>\n",
       "      <td>7.426227</td>\n",
       "    </tr>\n",
       "    <tr>\n",
       "      <th>4</th>\n",
       "      <td>Finland</td>\n",
       "      <td>1.443572</td>\n",
       "      <td>1.540247</td>\n",
       "      <td>0.809158</td>\n",
       "      <td>0.617951</td>\n",
       "      <td>0.245483</td>\n",
       "      <td>0.382612</td>\n",
       "      <td>2.430182</td>\n",
       "      <td>5</td>\n",
       "      <td>7.469</td>\n",
       "      <td>7.527542</td>\n",
       "      <td>7.410458</td>\n",
       "    </tr>\n",
       "  </tbody>\n",
       "</table>\n",
       "</div>"
      ],
      "text/plain": [
       "       Country  EconomyGDPperCapita    Family  HealthLifeExpectancy   Freedom  \\\n",
       "0       Norway             1.616463  1.533524              0.796667  0.635423   \n",
       "1      Denmark             1.482383  1.551122              0.792566  0.626007   \n",
       "2      Iceland             1.480633  1.610574              0.833552  0.627163   \n",
       "3  Switzerland             1.564980  1.516912              0.858131  0.620071   \n",
       "4      Finland             1.443572  1.540247              0.809158  0.617951   \n",
       "\n",
       "   Generosity  TrustGovernmentCorruption  DystopiaResidual  HappinessRank  \\\n",
       "0    0.362012                   0.315964          2.277027              1   \n",
       "1    0.355280                   0.400770          2.313707              2   \n",
       "2    0.475540                   0.153527          2.322715              3   \n",
       "3    0.290549                   0.367007          2.276716              4   \n",
       "4    0.245483                   0.382612          2.430182              5   \n",
       "\n",
       "   HappinessScore  Whiskerhigh  Whiskerlow  \n",
       "0           7.537     7.594445    7.479556  \n",
       "1           7.522     7.581728    7.462272  \n",
       "2           7.504     7.622030    7.385970  \n",
       "3           7.494     7.561772    7.426227  \n",
       "4           7.469     7.527542    7.410458  "
      ]
     },
     "execution_count": 1,
     "metadata": {},
     "output_type": "execute_result"
    }
   ],
   "source": [
    "%matplotlib inline\n",
    "import matplotlib.pyplot as plt\n",
    "from sklearn.neighbors import KNeighborsClassifier\n",
    "from sklearn.linear_model import LinearRegression\n",
    "import pandas as pd\n",
    "import numpy as np\n",
    "import os\n",
    "WHR2017_df = pd.read_csv(os.path.join(\"WHR2017.csv\"))\n",
    "WHR2017_df.head()"
   ]
  },
  {
   "cell_type": "code",
   "execution_count": 17,
   "metadata": {},
   "outputs": [
    {
     "data": {
      "image/png": "[encoded data removed]",
      "text/plain": [
       "<Figure size 432x288 with 1 Axes>"
      ]
     },
     "metadata": {
      "needs_background": "light"
     },
     "output_type": "display_data"
    }
   ],
   "source": [
    "# WHR: DOES FAMILY MATTER?\n",
    "# Yes. There is a clear visual linear pattern to the data. It says the happier you are with family, the happier you are.\n",
    "# Which is not a shock. What we want to build toward is Which Factor is THE MOST impactful in our data.\n",
    "# Seeing that a linear relationship appears to exist in the data should encourage us to fit a model to it and make\n",
    "# predictions upon it. \n",
    "Family_X = WHR2017_df.HappinessScore.values.reshape(-1,1)\n",
    "Family_y = WHR2017_df.Family.values.reshape(-1,1)\n",
    "familyplot = plt.scatter(Family_X,Family_y)"
   ]
  },
  {
   "cell_type": "code",
   "execution_count": 18,
   "metadata": {},
   "outputs": [
    {
     "data": {
      "image/png": "[encoded data removed]",
      "text/plain": [
       "<Figure size 432x288 with 1 Axes>"
      ]
     },
     "metadata": {
      "needs_background": "light"
     },
     "output_type": "display_data"
    }
   ],
   "source": [
    "# WHR: DOES HealthLifeExpectancy MATTER?\n",
    "Health_X = WHR2017_df.HappinessScore.values.reshape(-1,1)\n",
    "Health_y = WHR2017_df.HealthLifeExpectancy.values.reshape(-1,1)\n",
    "HealthLifeExpectancyplot=plt.scatter(Health_X,Health_y)"
   ]
  },
  {
   "cell_type": "code",
   "execution_count": 19,
   "metadata": {},
   "outputs": [
    {
     "data": {
      "image/png": "[encoded data removed]",
      "text/plain": [
       "<Figure size 432x288 with 1 Axes>"
      ]
     },
     "metadata": {
      "needs_background": "light"
     },
     "output_type": "display_data"
    }
   ],
   "source": [
    "# WHR: DOES FREEDOM MATTER?\n",
    "Freedom_X = WHR2017_df.HappinessScore.values.reshape(-1,1)\n",
    "Freedom_y = WHR2017_df.Freedom.values.reshape(-1,1)\n",
    "Freedomplot = plt.scatter(Freedom_X,Freedom_y)"
   ]
  },
  {
   "cell_type": "code",
   "execution_count": 20,
   "metadata": {},
   "outputs": [
    {
     "data": {
      "image/png": "[encoded data removed]",
      "text/plain": [
       "<Figure size 432x288 with 1 Axes>"
      ]
     },
     "metadata": {
      "needs_background": "light"
     },
     "output_type": "display_data"
    }
   ],
   "source": [
    "# WHR: DOES GENEROSITY MATTER?\n",
    "Generosity_X = WHR2017_df.HappinessScore.values.reshape(-1,1)\n",
    "Generosity_y = WHR2017_df.Generosity.values.reshape(-1,1)\n",
    "Generosityplot = plt.scatter(Generosity_X,Generosity_y)"
   ]
  },
  {
   "cell_type": "code",
   "execution_count": 21,
   "metadata": {},
   "outputs": [
    {
     "data": {
      "image/png": "[encoded data removed]",
      "text/plain": [
       "<Figure size 432x288 with 1 Axes>"
      ]
     },
     "metadata": {
      "needs_background": "light"
     },
     "output_type": "display_data"
    }
   ],
   "source": [
    "# WHR: DOES TrustGovernmentCorruption MATTER?\n",
    "TrustGovt_X = WHR2017_df.HappinessScore.values.reshape(-1,1)\n",
    "TrustGovt_y = WHR2017_df.TrustGovernmentCorruption.values.reshape(-1,1)\n",
    "TrustGovtplot = plt.scatter(TrustGovt_X,TrustGovt_y)"
   ]
  },
  {
   "cell_type": "code",
   "execution_count": 22,
   "metadata": {},
   "outputs": [
    {
     "data": {
      "image/png": "[encoded data removed]",
      "text/plain": [
       "<Figure size 432x288 with 1 Axes>"
      ]
     },
     "metadata": {
      "needs_background": "light"
     },
     "output_type": "display_data"
    }
   ],
   "source": [
    "# WHR: DOES DystopiaResidual MATTER?\n",
    "Dystopia_X = WHR2017_df.HappinessScore.values.reshape(-1,1)\n",
    "Dystopia_y = WHR2017_df.DystopiaResidual.values.reshape(-1,1)\n",
    "DystopiaResidualplot = plt.scatter(Dystopia_X,Dystopia_y)"
   ]
  },
  {
   "cell_type": "markdown",
   "metadata": {},
   "source": [
    "Create Linear Regression Models, Fit the Models, Assign variables to hold coefficients and Y intercepts"
   ]
  },
  {
   "cell_type": "code",
   "execution_count": 31,
   "metadata": {},
   "outputs": [
    {
     "name": "stdout",
     "output_type": "stream",
     "text": [
      "Family Model Weight Coefficients:  [[0.19114885]]\n",
      "Family Model y-axis intercept:  [0.16548312]\n"
     ]
    }
   ],
   "source": [
    "Familymodel = LinearRegression()\n",
    "Familymodel.fit(Family_X,Family_y)\n",
    "\n",
    "FamilyCoefficients = Familymodel.coef_\n",
    "FamilyYintercept = Familymodel.intercept_\n",
    "\n",
    "print('Family Model Weight Coefficients: ', Familymodel.coef_)\n",
    "print('Family Model y-axis intercept: ', Familymodel.intercept_)"
   ]
  },
  {
   "cell_type": "code",
   "execution_count": 32,
   "metadata": {},
   "outputs": [
    {
     "name": "stdout",
     "output_type": "stream",
     "text": [
      "HealthLifeExpectancy Model Weight Coefficients:  [[0.16387395]]\n",
      "HealthLifeExpectancy Model y-axis intercept:  [-0.32604354]\n"
     ]
    }
   ],
   "source": [
    "HealthLifeExpectancymodel = LinearRegression()\n",
    "HealthLifeExpectancymodel.fit(Health_X,Health_y)\n",
    "\n",
    "HealthCoefficients = HealthLifeExpectancymodel.coef_\n",
    "HealthYintercept = HealthLifeExpectancymodel.intercept_\n",
    "\n",
    "print('HealthLifeExpectancy Model Weight Coefficients: ', HealthLifeExpectancymodel.coef_)\n",
    "print('HealthLifeExpectancy Model y-axis intercept: ', HealthLifeExpectancymodel.intercept_)"
   ]
  },
  {
   "cell_type": "code",
   "execution_count": 33,
   "metadata": {},
   "outputs": [
    {
     "name": "stdout",
     "output_type": "stream",
     "text": [
      "Freedom Model Weight Coefficients:  [[0.07559827]]\n",
      "Freedom Model y-axis intercept:  [0.00403136]\n"
     ]
    }
   ],
   "source": [
    "Freedommodel = LinearRegression()\n",
    "Freedommodel.fit(Freedom_X,Freedom_y)\n",
    "\n",
    "FreedomCoefficients = Freedommodel.coef_\n",
    "FreedomYintercept = Freedommodel.intercept_\n",
    "\n",
    "print('Freedom Model Weight Coefficients: ', Freedommodel.coef_)\n",
    "print('Freedom Model y-axis intercept: ', Freedommodel.intercept_)"
   ]
  },
  {
   "cell_type": "code",
   "execution_count": 34,
   "metadata": {},
   "outputs": [
    {
     "name": "stdout",
     "output_type": "stream",
     "text": [
      "Generosity Model Weight Coefficients:  [[0.01849795]]\n",
      "Generosity Model y-axis intercept:  [0.14784509]\n"
     ]
    }
   ],
   "source": [
    "Generositymodel = LinearRegression()\n",
    "Generositymodel.fit(Generosity_X,Generosity_y)\n",
    "\n",
    "GenerosityCoefficients = Generositymodel.coef_\n",
    "GenerosityYintercept = Generositymodel.intercept_\n",
    "\n",
    "print('Generosity Model Weight Coefficients: ', Generositymodel.coef_)\n",
    "print('Generosity Model y-axis intercept: ', Generositymodel.intercept_)"
   ]
  },
  {
   "cell_type": "code",
   "execution_count": 35,
   "metadata": {},
   "outputs": [
    {
     "name": "stdout",
     "output_type": "stream",
     "text": [
      "TrustGovernmentCorruption Model Weight Coefficients:  [[0.03856024]]\n",
      "TrustGovernmentCorruption Model y-axis intercept:  [-0.08333207]\n"
     ]
    }
   ],
   "source": [
    "TrustGovernmentCorruptionmodel = LinearRegression()\n",
    "TrustGovernmentCorruptionmodel.fit(TrustGovt_X,TrustGovt_y)\n",
    "\n",
    "TrustGovtCoefficients = TrustGovernmentCorruptionmodel.coef_\n",
    "TrustGovtYintercept = TrustGovernmentCorruptionmodel.intercept_\n",
    "\n",
    "print('TrustGovernmentCorruption Model Weight Coefficients: ', TrustGovernmentCorruptionmodel.coef_)\n",
    "print('TrustGovernmentCorruption Model y-axis intercept: ', TrustGovernmentCorruptionmodel.intercept_)"
   ]
  },
  {
   "cell_type": "code",
   "execution_count": 36,
   "metadata": {},
   "outputs": [
    {
     "name": "stdout",
     "output_type": "stream",
     "text": [
      "DystopiaResidual Model Weight Coefficients:  [[0.21011733]]\n",
      "DystopiaResidual Model y-axis intercept:  [0.72526556]\n"
     ]
    }
   ],
   "source": [
    "DystopiaResidualmodel = LinearRegression()\n",
    "DystopiaResidualmodel.fit(Dystopia_X,Dystopia_y)\n",
    "\n",
    "DystopiaCoefficients = DystopiaResidualmodel.coef_\n",
    "DystopiaYintercept = DystopiaResidualmodel.intercept_\n",
    "\n",
    "print('DystopiaResidual Model Weight Coefficients: ', DystopiaResidualmodel.coef_)\n",
    "print('DystopiaResidual Model y-axis intercept: ', DystopiaResidualmodel.intercept_)"
   ]
  },
  {
   "cell_type": "code",
   "execution_count": 38,
   "metadata": {},
   "outputs": [
    {
     "name": "stdout",
     "output_type": "stream",
     "text": [
      "Actual Min Family X Value: [[2.69300008]]\n",
      "Actual Max Family X Value: [[7.53700018]]\n",
      "Actual Min Health X Value: [[2.69300008]]\n",
      "Actual Max Health X Value: [[7.53700018]]\n",
      "Actual Min Generosity X Value: [[7.53700018]]\n",
      "Actual Max Generosity X Value: [[7.53700018]]\n",
      "Actual Min TrustGovt X Value: [[2.69300008]]\n",
      "Actuayl Max TrustGovt X Value: [[7.53700018]]\n",
      "Actual Min Dystopia X Value: [[2.69300008]]\n",
      "Actuayl Max Dystopia X Value: [[7.53700018]]\n",
      "[[2.69300008]]\n",
      "[[7.53700018]]\n",
      "[[2.69300008]]\n",
      "[[7.53700018]]\n",
      "[[7.53700018]]\n"
     ]
    },
    {
     "ename": "NameError",
     "evalue": "name 'Generosityx_max' is not defined",
     "output_type": "error",
     "traceback": [
      "\u001b[1;31m---------------------------------------------------------------------------\u001b[0m",
      "\u001b[1;31mNameError\u001b[0m                                 Traceback (most recent call last)",
      "\u001b[1;32m<ipython-input-38-b9d149c91d2c>\u001b[0m in \u001b[0;36m<module>\u001b[1;34m\u001b[0m\n\u001b[0;32m     33\u001b[0m \u001b[0mprint\u001b[0m\u001b[1;33m(\u001b[0m\u001b[0mHealthx_max\u001b[0m\u001b[1;33m)\u001b[0m\u001b[1;33m\u001b[0m\u001b[1;33m\u001b[0m\u001b[0m\n\u001b[0;32m     34\u001b[0m \u001b[0mprint\u001b[0m\u001b[1;33m(\u001b[0m\u001b[0mGenerosityx_min\u001b[0m\u001b[1;33m)\u001b[0m\u001b[1;33m\u001b[0m\u001b[1;33m\u001b[0m\u001b[0m\n\u001b[1;32m---> 35\u001b[1;33m \u001b[0mprint\u001b[0m\u001b[1;33m(\u001b[0m\u001b[0mGenerosityx_max\u001b[0m\u001b[1;33m)\u001b[0m\u001b[1;33m\u001b[0m\u001b[1;33m\u001b[0m\u001b[0m\n\u001b[0m\u001b[0;32m     36\u001b[0m \u001b[0mprint\u001b[0m\u001b[1;33m(\u001b[0m\u001b[0mTrustGovtx_min\u001b[0m\u001b[1;33m)\u001b[0m\u001b[1;33m\u001b[0m\u001b[1;33m\u001b[0m\u001b[0m\n\u001b[0;32m     37\u001b[0m \u001b[0mprint\u001b[0m\u001b[1;33m(\u001b[0m\u001b[0mTrustGovtx_max\u001b[0m\u001b[1;33m)\u001b[0m\u001b[1;33m\u001b[0m\u001b[1;33m\u001b[0m\u001b[0m\n",
      "\u001b[1;31mNameError\u001b[0m: name 'Generosityx_max' is not defined"
     ]
    }
   ],
   "source": [
    "# This just sets up variables and min / max variables for the predictions we're going to make \n",
    "# (we know the X; we're going to try to predict the Y, but we need names for our Xs so the right Ys\n",
    "# get predicted. In theory. I'm printing them just so I know it worked.\n",
    "\n",
    "Familyx_min = np.array([[Family_X.min()]])\n",
    "Familyx_max = np.array([[Family_X.max()]])\n",
    "Healthx_min = np.array([[Health_X.min()]])\n",
    "Healthx_max = np.array([[Health_X.max()]])\n",
    "Freedomx_min = np.array([[Freedom_X.min]])\n",
    "Freedomx_max = np.array([[Freedom_X.max]])\n",
    "Generosityx_min = np.array([[Generosity_X.min()]])\n",
    "Generosityx_min = np.array([[Generosity_X.max()]])\n",
    "TrustGovtx_min = np.array([[TrustGovt_X.min()]])\n",
    "TrustGovtx_max = np.array([[TrustGovt_X.max()]])\n",
    "Dystopiax_min = np.array([[Dystopia_X.min()]])\n",
    "Dystopiax_max = np.array([[Dystopia_X.max()]])\n",
    "\n",
    "# The list of print statements below is missing Freedom's values, much like our current executive officce.\n",
    "# The arrays above do include Freedom's values\n",
    "print(f'Actual Min Family X Value: {Familyx_min}')\n",
    "print(f'Actual Max Family X Value: {Familyx_max}')\n",
    "print(f'Actual Min Health X Value: {Healthx_min}')\n",
    "print(f'Actual Max Health X Value: {Healthx_max}')\n",
    "print(f'Actual Min Generosity X Value: {Generosityx_min}')\n",
    "print(f'Actual Max Generosity X Value: {Generosityx_min}')\n",
    "print(f'Actual Min TrustGovt X Value: {TrustGovtx_min}')\n",
    "print(f'Actuayl Max TrustGovt X Value: {TrustGovtx_max}')\n",
    "print(f'Actual Min Dystopia X Value: {Dystopiax_min}')\n",
    "print(f'Actuayl Max Dystopia X Value: {Dystopiax_max}')\n",
    "print(Familyx_min)\n",
    "print(Familyx_max)\n",
    "print(Healthx_min)\n",
    "print(Healthx_max)\n",
    "print(Generosityx_min)\n",
    "print(Generosityx_max)\n",
    "print(TrustGovtx_min)\n",
    "print(TrustGovtx_max)\n",
    "print(Dystopiax_min)\n",
    "print(Dystopiax_max)\n",
    "\n"
   ]
  },
  {
   "cell_type": "markdown",
   "metadata": {},
   "source": [
    "Predict Y based on X\n"
   ]
  },
  {
   "cell_type": "code",
   "execution_count": 40,
   "metadata": {},
   "outputs": [
    {
     "name": "stdout",
     "output_type": "stream",
     "text": [
      "[[0.68024698]]\n",
      "[[1.60617202]]\n",
      "[[0.11526903]]\n",
      "[[0.90907448]]\n",
      "[[0.28726414]]\n",
      "[[0.28726414]]\n",
      "[[0.02051067]]\n",
      "[[0.20729649]]\n",
      "[[1.29111154]]\n",
      "[[2.3089199]]\n"
     ]
    }
   ],
   "source": [
    "PredictedFamily_y_min = Familymodel.predict(Familyx_min)\n",
    "PredictedFamily_y_max = Familymodel.predict(Familyx_max)\n",
    "PrecictedHealth_y_min = HealthLifeExpectancymodel.predict(Healthx_min)\n",
    "PredictedHealth_y_max = HealthLifeExpectancymodel.predict(Healthx_max)\n",
    "PrecictedGenerosity_y_min = Generositymodel.predict(Generosityx_min)\n",
    "PredictedGenerosity_y_max = Generositymodel.predict(Generosityx_min)\n",
    "PrecictedTrustGovt_y_min = TrustGovernmentCorruptionmodel.predict(TrustGovtx_min)\n",
    "PredictedTrust_Govty_max = TrustGovernmentCorruptionmodel.predict(TrustGovtx_max)\n",
    "PrecictedDystopia_y_min = DystopiaResidualmodel.predict(Dystopiax_min)\n",
    "PredictedDystopia_y_max = DystopiaResidualmodel.predict(Dystopiax_max)\n",
    "\n",
    "print(PredictedFamily_y_min)\n",
    "print(PredictedFamily_y_max)\n",
    "print(PrecictedHealth_y_min)\n",
    "print(PredictedHealth_y_max)\n",
    "print(PrecictedGenerosity_y_min)\n",
    "print(PredictedGenerosity_y_max)\n",
    "print(PrecictedTrustGovt_y_min)\n",
    "print(PredictedTrust_Govty_max)\n",
    "print(PrecictedDystopia_y_min)\n",
    "print(PredictedDystopia_y_max)\n",
    "\n",
    "# As in real life it seems, we cannot predict freedom with these data\n",
    "# Try it if you'd like by uncommenting the code below and running it. \n",
    "# PrecictedFreedom_y_min = Freedommodel.predict(Freedomx_min)\n",
    "# PredictedFreedom_y_max = Freedommodel.predict(Freedomx_max)\n",
    "# print(PrecictedFreedom_y_min)\n",
    "# print(PredictedFreedom_y_max)"
   ]
  },
  {
   "cell_type": "markdown",
   "metadata": {},
   "source": [
    "Build a scatter plot of all the above, which will be \"the big reveal\" that visually/statistically lets us know which of the factors are most statistically impactful to world happiness. And probably which is the least...and maybe some things in between."
   ]
  },
  {
   "cell_type": "code",
   "execution_count": null,
   "metadata": {},
   "outputs": [],
   "source": []
  },
  {
   "cell_type": "code",
   "execution_count": null,
   "metadata": {},
   "outputs": [],
   "source": []
  },
  {
   "cell_type": "code",
   "execution_count": null,
   "metadata": {},
   "outputs": [],
   "source": []
  },
  {
   "cell_type": "code",
   "execution_count": null,
   "metadata": {},
   "outputs": [],
   "source": []
  },
  {
   "cell_type": "code",
   "execution_count": null,
   "metadata": {},
   "outputs": [],
   "source": []
  },
  {
   "cell_type": "code",
   "execution_count": null,
   "metadata": {},
   "outputs": [],
   "source": []
  },
  {
   "cell_type": "code",
   "execution_count": null,
   "metadata": {},
   "outputs": [],
   "source": []
  },
  {
   "cell_type": "code",
   "execution_count": null,
   "metadata": {},
   "outputs": [],
   "source": []
  },
  {
   "cell_type": "code",
   "execution_count": null,
   "metadata": {},
   "outputs": [],
   "source": []
  },
  {
   "cell_type": "code",
   "execution_count": null,
   "metadata": {},
   "outputs": [],
   "source": []
  },
  {
   "cell_type": "code",
   "execution_count": null,
   "metadata": {},
   "outputs": [],
   "source": []
  },
  {
   "cell_type": "code",
   "execution_count": null,
   "metadata": {},
   "outputs": [],
   "source": [
    "# Things I can't do: place each model's coefficient and Y intercept into an array for plotting.\n",
    "\n",
    "HappyMetrics = pd.DataFrame{[FamilyCoefficients,FamilyYintercept],[HealthCoefficients, HealthYintercept],\n",
    "                     [FreedomCoefficients, FreedomYintercept],[GenerosityCoefficients, GenerosityYintercept],\n",
    "                      [TrustGovtCoefficients, TrustGovtYintercept], [DystopiaCoefficients, DystopiaYintercept]}          ]"
   ]
  }
 ],
 "metadata": {
  "kernelspec": {
   "display_name": "Python 3",
   "language": "python",
   "name": "python3"
  },
  "language_info": {
   "codemirror_mode": {
    "name": "ipython",
    "version": 3
   },
   "file_extension": ".py",
   "mimetype": "text/x-python",
   "name": "python",
   "nbconvert_exporter": "python",
   "pygments_lexer": "ipython3",
   "version": "3.7.3"
  }
 },
 "nbformat": 4,
 "nbformat_minor": 2
}
