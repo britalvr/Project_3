{
 "cells": [
  {
   "cell_type": "markdown",
   "metadata": {},
   "source": [
    "Project 3 Idea: What Factors Are Most Important To Happiness Based on 2017 World Happiness Report Data 🤞"
   ]
  },
  {
   "cell_type": "code",
   "execution_count": null,
   "metadata": {},
   "outputs": [],
   "source": [
    "%matplotlib inline\n",
    "import matplotlib.pyplot as plt\n",
    "from sklearn.neighbors import KNeighborsClassifier\n",
    "from sklearn.linear_model import LinearRegression\n",
    "import pandas as pd\n",
    "import numpy as np\n",
    "import os\n",
    "WHR2017_df = pd.read_csv(os.path.join(\"WHR2017.csv\"))\n",
    "WHR2017_df.head(5)"
   ]
  },
  {
   "cell_type": "code",
   "execution_count": null,
   "metadata": {},
   "outputs": [],
   "source": [
    "# WHR: DOES FAMILY MATTER?\n",
    "# Yes. There is a clear visual linear pattern to the data. It says the happier you are with family, the happier you are.\n",
    "# Which is not a shock. What we want to build toward is Which Factor is THE MOST impactful in our data.\n",
    "# Seeing that a linear relationship appears to exist in the data should encourage us to fit a model to it and make\n",
    "# predictions upon it. \n",
    "Family_X = WHR2017_df.HappinessScore.values.reshape(-1,1)\n",
    "Family_y = WHR2017_df.Family.values.reshape(-1,1)\n",
    "familyplot = plt.scatter(Family_X,Family_y)"
   ]
  },
  {
   "cell_type": "code",
   "execution_count": null,
   "metadata": {},
   "outputs": [],
   "source": [
    "# WHR: DOES HealthLifeExpectancy MATTER?\n",
    "Health_X = WHR2017_df.HappinessScore.values.reshape(-1,1)\n",
    "Health_y = WHR2017_df.HealthLifeExpectancy.values.reshape(-1,1)\n",
    "HealthLifeExpectancyplot=plt.scatter(Health_X,Health_y)"
   ]
  },
  {
   "cell_type": "code",
   "execution_count": null,
   "metadata": {},
   "outputs": [],
   "source": [
    "# WHR: DOES FREEDOM MATTER?\n",
    "Freedom_X = WHR2017_df.HappinessScore.values.reshape(-1,1)\n",
    "Freedom_y = WHR2017_df.Freedom.values.reshape(-1,1)\n",
    "Freedomplot = plt.scatter(Freedom_X,Freedom_y)"
   ]
  },
  {
   "cell_type": "code",
   "execution_count": null,
   "metadata": {},
   "outputs": [],
   "source": [
    "# WHR: DOES GENEROSITY MATTER?\n",
    "Generosity_X = WHR2017_df.HappinessScore.values.reshape(-1,1)\n",
    "Generosity_y = WHR2017_df.Generosity.values.reshape(-1,1)\n",
    "Generosityplot = plt.scatter(Generosity_X,Generosity_y)"
   ]
  },
  {
   "cell_type": "code",
   "execution_count": null,
   "metadata": {},
   "outputs": [],
   "source": [
    "# WHR: DOES TrustGovernmentCorruption MATTER?\n",
    "TrustGovt_X = WHR2017_df.HappinessScore.values.reshape(-1,1)\n",
    "TrustGovt_y = WHR2017_df.TrustGovernmentCorruption.values.reshape(-1,1)\n",
    "TrustGovtplot = plt.scatter(TrustGovt_X,TrustGovt_y)"
   ]
  },
  {
   "cell_type": "code",
   "execution_count": null,
   "metadata": {},
   "outputs": [],
   "source": [
    "# WHR: DOES DystopiaResidual MATTER?\n",
    "Dystopia_X = WHR2017_df.HappinessScore.values.reshape(-1,1)\n",
    "Dystopia_y = WHR2017_df.DystopiaResidual.values.reshape(-1,1)\n",
    "DystopiaResidualplot = plt.scatter(Dystopia_X,Dystopia_y)"
   ]
  },
  {
   "cell_type": "markdown",
   "metadata": {},
   "source": [
    "Create Linear Regression Models, Fit the Models, Assign variables to hold coefficients and Y intercepts"
   ]
  },
  {
   "cell_type": "code",
   "execution_count": null,
   "metadata": {},
   "outputs": [],
   "source": [
    "Familymodel = LinearRegression()\n",
    "Familymodel.fit(Family_X,Family_y)\n",
    "\n",
    "FamilyCoefficients = Familymodel.coef_\n",
    "FamilyYintercept = Familymodel.intercept_\n",
    "\n",
    "print('Family Model Weight Coefficients: ', Familymodel.coef_)\n",
    "print('Family Model y-axis intercept: ', Familymodel.intercept_)"
   ]
  },
  {
   "cell_type": "code",
   "execution_count": null,
   "metadata": {},
   "outputs": [],
   "source": [
    "HealthLifeExpectancymodel = LinearRegression()\n",
    "HealthLifeExpectancymodel.fit(Health_X,Health_y)\n",
    "\n",
    "HealthCoefficients = HealthLifeExpectancymodel.coef_\n",
    "HealthYintercept = HealthLifeExpectancymodel.intercept_\n",
    "\n",
    "print('HealthLifeExpectancy Model Weight Coefficients: ', HealthLifeExpectancymodel.coef_)\n",
    "print('HealthLifeExpectancy Model y-axis intercept: ', HealthLifeExpectancymodel.intercept_)"
   ]
  },
  {
   "cell_type": "code",
   "execution_count": null,
   "metadata": {},
   "outputs": [],
   "source": [
    "Freedommodel = LinearRegression()\n",
    "Freedommodel.fit(Freedom_X,Freedom_y)\n",
    "\n",
    "FreedomCoefficients = Freedommodel.coef_\n",
    "FreedomYintercept = Freedommodel.intercept_\n",
    "\n",
    "print('Freedom Model Weight Coefficients: ', Freedommodel.coef_)\n",
    "print('Freedom Model y-axis intercept: ', Freedommodel.intercept_)"
   ]
  },
  {
   "cell_type": "code",
   "execution_count": null,
   "metadata": {},
   "outputs": [],
   "source": [
    "Generositymodel = LinearRegression()\n",
    "Generositymodel.fit(Generosity_X,Generosity_y)\n",
    "\n",
    "GenerosityCoefficients = Generositymodel.coef_\n",
    "GenerosityYintercept = Generositymodel.intercept_\n",
    "\n",
    "print('Generosity Model Weight Coefficients: ', Generositymodel.coef_)\n",
    "print('Generosity Model y-axis intercept: ', Generositymodel.intercept_)"
   ]
  },
  {
   "cell_type": "code",
   "execution_count": null,
   "metadata": {},
   "outputs": [],
   "source": [
    "TrustGovernmentCorruptionmodel = LinearRegression()\n",
    "TrustGovernmentCorruptionmodel.fit(TrustGovt_X,TrustGovt_y)\n",
    "\n",
    "TrustGovtCoefficients = TrustGovernmentCorruptionmodel.coef_\n",
    "TrustGovtYintercept = TrustGovernmentCorruptionmodel.intercept_\n",
    "\n",
    "print('TrustGovernmentCorruption Model Weight Coefficients: ', TrustGovernmentCorruptionmodel.coef_)\n",
    "print('TrustGovernmentCorruption Model y-axis intercept: ', TrustGovernmentCorruptionmodel.intercept_)"
   ]
  },
  {
   "cell_type": "code",
   "execution_count": null,
   "metadata": {},
   "outputs": [],
   "source": [
    "DystopiaResidualmodel = LinearRegression()\n",
    "DystopiaResidualmodel.fit(Dystopia_X,Dystopia_y)\n",
    "\n",
    "DystopiaCoefficients = DystopiaResidualmodel.coef_\n",
    "DystopiaYintercept = DystopiaResidualmodel.intercept_\n",
    "\n",
    "print('DystopiaResidual Model Weight Coefficients: ', DystopiaResidualmodel.coef_)\n",
    "print('DystopiaResidual Model y-axis intercept: ', DystopiaResidualmodel.intercept_)"
   ]
  },
  {
   "cell_type": "code",
   "execution_count": null,
   "metadata": {},
   "outputs": [],
   "source": [
    "# This just sets up variables and min / max variables for the predictions we're going to make \n",
    "# (we know the X; we're going to try to predict the Y, but we need names for our Xs so the right Ys\n",
    "# get predicted. In theory. I'm printing them just so I know it worked.\n",
    "\n",
    "Familyx_min = np.array([[Family_X.min()]])\n",
    "Familyx_max = np.array([[Family_X.max()]])\n",
    "Healthx_min = np.array([[Health_X.min()]])\n",
    "Healthx_max = np.array([[Health_X.max()]])\n",
    "Freedomx_min = np.array([[Freedom_X.min]])\n",
    "Freedomx_max = np.array([[Freedom_X.max]])\n",
    "Generosityx_min = np.array([[Generosity_X.min()]])\n",
    "Generosityx_max = np.array([[Generosity_X.max()]])\n",
    "TrustGovtx_min = np.array([[TrustGovt_X.min()]])\n",
    "TrustGovtx_max = np.array([[TrustGovt_X.max()]])\n",
    "Dystopiax_min = np.array([[Dystopia_X.min()]])\n",
    "Dystopiax_max = np.array([[Dystopia_X.max()]])\n",
    "\n",
    "# The list of print statements below is missing Freedom's values, much like our current executive officce.\n",
    "# The arrays above do include Freedom's values\n",
    "# print(f'Actual Min Family X Value: {Familyx_min}')\n",
    "# print(f'Actual Max Family X Value: {Familyx_max}')\n",
    "# print(f'Actual Min Health X Value: {Healthx_min}')\n",
    "# print(f'Actual Max Health X Value: {Healthx_max}')\n",
    "# print(f'Actual Min Generosity X Value: {Generosityx_min}')\n",
    "# print(f'Actual Max Generosity X Value: {Generosityx_min}')\n",
    "# print(f'Actual Min TrustGovt X Value: {TrustGovtx_min}')\n",
    "# print(f'Actuayl Max TrustGovt X Value: {TrustGovtx_max}')\n",
    "# print(f'Actual Min Dystopia X Value: {Dystopiax_min}')\n",
    "# print(f'Actuayl Max Dystopia X Value: {Dystopiax_max}')\n",
    "# print(Familyx_min)\n",
    "# print(Familyx_max)\n",
    "# print(Healthx_min)\n",
    "# print(Healthx_max)\n",
    "# print(Generosityx_min)\n",
    "# print(Generosityx_max)\n",
    "# print(TrustGovtx_min)\n",
    "# print(TrustGovtx_max)\n",
    "# print(Dystopiax_min)\n",
    "# print(Dystopiax_max)\n",
    "\n"
   ]
  },
  {
   "cell_type": "markdown",
   "metadata": {},
   "source": [
    "Predict Y based on X\n",
    "\n",
    "\"You'll put your eye out\"\n",
    "-- Ralph's mom"
   ]
  },
  {
   "cell_type": "code",
   "execution_count": null,
   "metadata": {},
   "outputs": [],
   "source": [
    "PredictedFamily_y_min = Familymodel.predict(Familyx_min)\n",
    "PredictedFamily_y_max = Familymodel.predict(Familyx_max)\n",
    "PrecictedHealth_y_min = HealthLifeExpectancymodel.predict(Healthx_min)\n",
    "PredictedHealth_y_max = HealthLifeExpectancymodel.predict(Healthx_max)\n",
    "PrecictedGenerosity_y_min = Generositymodel.predict(Generosityx_min)\n",
    "PredictedGenerosity_y_max = Generositymodel.predict(Generosityx_min)\n",
    "PrecictedTrustGovt_y_min = TrustGovernmentCorruptionmodel.predict(TrustGovtx_min)\n",
    "PredictedTrust_Govty_max = TrustGovernmentCorruptionmodel.predict(TrustGovtx_max)\n",
    "PrecictedDystopia_y_min = DystopiaResidualmodel.predict(Dystopiax_min)\n",
    "PredictedDystopia_y_max = DystopiaResidualmodel.predict(Dystopiax_max)\n",
    "\n",
    "print(PredictedFamily_y_min)\n",
    "print(PredictedFamily_y_max)\n",
    "print(PrecictedHealth_y_min)\n",
    "print(PredictedHealth_y_max)\n",
    "print(PrecictedGenerosity_y_min)\n",
    "print(PredictedGenerosity_y_max)\n",
    "print(PrecictedTrustGovt_y_min)\n",
    "print(PredictedTrust_Govty_max)\n",
    "print(PrecictedDystopia_y_min)\n",
    "print(PredictedDystopia_y_max)\n",
    "\n",
    "# As in real life it seems, we cannot predict freedom with these data\n",
    "# Try it if you'd like by uncommenting the code below and running it. \n",
    "# PrecictedFreedom_y_min = Freedommodel.predict(Freedomx_min)\n",
    "# PredictedFreedom_y_max = Freedommodel.predict(Freedomx_max)\n",
    "# print(PrecictedFreedom_y_min)\n",
    "# print(PredictedFreedom_y_max)"
   ]
  },
  {
   "cell_type": "markdown",
   "metadata": {},
   "source": [
    "Predict a Bunch of Shit. Predict X and Y. Predict Predict Predict. Keep Predicting. Repeat. \n",
    "\"The days run away like horses over the hills\" -- Charles Bukowski"
   ]
  },
  {
   "cell_type": "code",
   "execution_count": null,
   "metadata": {},
   "outputs": [],
   "source": [
    "# This is all about predicting the X value. Shit. Hey - it's only math.\n",
    "# It's all 'commented out' b/c it was written just to make sure the predictions \n",
    "# worked one by one... first family, then health, etc\n",
    "# In the next code block, below, all these are declared as variables for us to use later.\n",
    "# Which we could do super easily if I only knew how to put all this shit into a dataframe. #goodtalk\n",
    "\n",
    "# Familypredictions = Familymodel.predict(Family_X)\n",
    "# print(f\"Family true output: {Family_y[0]}\")\n",
    "# print(f\"Family predicted output: {Familypredictions[0]}\")\n",
    "# print(f\"Family prediction Error: {Familypredictions[0]-Family_y[0]}\")\n",
    "\n",
    "# Healthpredictions = HealthLifeExpectancymodel.predict(Health_X)\n",
    "# print(f\"Health true output: {Health_y[0]}\")\n",
    "# print(f\"Health predicted output: {Healthpredictions[0]}\")\n",
    "# print(f\"Health prediction Error: {Healthpredictions[0]-Health_y[0]}\")\n",
    "\n",
    "# Freedompredictions = Freedommodel.predict(Freedom_X)\n",
    "# print(f\"Freedom true output: {Freedom_y[0]}\")\n",
    "# print(f\"Freedom predicted output: {Freedompredictions[0]}\")\n",
    "# print(f\"Freedom prediction Error: {Freedompredictions[0]-Freedom_y[0]}\")\n",
    "\n",
    "# Generositypredictions = Generositymodel.predict(Generosity_X)\n",
    "# print(f\"Generosity true output: {Generosity_y[0]}\")\n",
    "# print(f\"Generosity predicted output: {Generositypredictions[0]}\")\n",
    "# print(f\"Generosity prediction Error: {Generositypredictions[0]-Generosity_y[0]}\")\n",
    "\n",
    "# TrustGovtpredictions = TrustGovernmentCorruptionmodel.predict(TrustGovt_X)\n",
    "# print(f\"TrustGovt true output: {TrustGovt_y[0]}\")\n",
    "# print(f\"TrustGovt predicted output: {TrustGovtpredictions[0]}\")\n",
    "# print(f\"TrustGovt prediction Error: {TrustGovtpredictions[0]-TrustGovt_y[0]}\")\n",
    "\n",
    "# Dystopiapredictions = DystopiaResidualmodel.predict(Dystopia_X)\n",
    "# print(f\"Dystopia true output: {Dystopia_y[0]}\")\n",
    "# print(f\"Dystopia predicted output: {Dystopiapredictions[0]}\")\n",
    "# print(f\"Dystopia prediction Error: {Dystopiapredictions[0]-Dystopia_y[0]}\")\n"
   ]
  },
  {
   "cell_type": "code",
   "execution_count": null,
   "metadata": {},
   "outputs": [],
   "source": [
    "# This is where we take all our predicted X values and store them into variables we can call later.\n",
    "\n",
    "Familypredictions = Familymodel.predict(Family_X)\n",
    "Familytrueoutput = Family_y[0]\n",
    "Familypredictedoutput = Familypredictions[0]\n",
    "FamilypredictionError = Familypredictions[0]-Family_y[0]\n",
    "\n",
    "Healthpredictions = HealthLifeExpectancymodel.predict(Health_X)\n",
    "Healthtrueoutput = Health_y[0]\n",
    "Healthpredictedoutput = Healthpredictions[0]\n",
    "HealthpredictionError = Healthpredictions[0]-Health_y[0]\n",
    "\n",
    "Freedompredictions = Freedommodel.predict(Freedom_X)\n",
    "Freedomtrueoutput = Freedom_y[0]\n",
    "Freedompredictedoutput = Freedompredictions[0]\n",
    "FreedompredictionError = Freedompredictions[0]-Freedom_y[0]\n",
    "\n",
    "Generositypredictions = Generositymodel.predict(Generosity_X)\n",
    "Generositytrueoutput = Generosity_y[0]\n",
    "Generositypredictedoutput = Generositypredictions[0]\n",
    "GenerositypredictionError = Generositypredictions[0]-Generosity_y[0]\n",
    "\n",
    "TrustGovtpredictions = TrustGovernmentCorruptionmodel.predict(TrustGovt_X)\n",
    "TrustGovttrueoutput = TrustGovt_y[0]\n",
    "TrustGovtpredictedoutput = TrustGovtpredictions[0]\n",
    "TrustGovtpredictionError = TrustGovtpredictions[0]-TrustGovt_y[0]\n",
    "\n",
    "\n",
    "Dystopiapredictions = DystopiaResidualmodel.predict(Dystopia_X)\n",
    "Dystopiatrueoutput = Dystopia_y[0]\n",
    "Dystopiapredictedoutput = Dystopiapredictions[0]\n",
    "DystopiapredictionError = Dystopiapredictions[0]-Dystopia_y[0]\n",
    "\n"
   ]
  },
  {
   "cell_type": "code",
   "execution_count": null,
   "metadata": {},
   "outputs": [],
   "source": [
    "# plt.scatter(X, y, c='blue')\n",
    "# plt.plot([x_min, x_max], [y_min, y_max], c='red')"
   ]
  },
  {
   "cell_type": "code",
   "execution_count": null,
   "metadata": {},
   "outputs": [],
   "source": []
  },
  {
   "cell_type": "code",
   "execution_count": null,
   "metadata": {},
   "outputs": [],
   "source": []
  },
  {
   "cell_type": "code",
   "execution_count": null,
   "metadata": {},
   "outputs": [],
   "source": []
  },
  {
   "cell_type": "code",
   "execution_count": null,
   "metadata": {},
   "outputs": [],
   "source": []
  },
  {
   "cell_type": "code",
   "execution_count": null,
   "metadata": {},
   "outputs": [],
   "source": []
  },
  {
   "cell_type": "code",
   "execution_count": null,
   "metadata": {},
   "outputs": [],
   "source": []
  },
  {
   "cell_type": "code",
   "execution_count": null,
   "metadata": {},
   "outputs": [],
   "source": []
  },
  {
   "cell_type": "code",
   "execution_count": null,
   "metadata": {},
   "outputs": [],
   "source": []
  },
  {
   "cell_type": "code",
   "execution_count": null,
   "metadata": {},
   "outputs": [],
   "source": [
    "# Things I wanted to also do: place each model's coefficient and Y intercept into an array for plotting.\n",
    "\n",
    "#HappyMetrics = pd.DataFrame{[FamilyCoefficients,FamilyYintercept],[HealthCoefficients, HealthYintercept],\n",
    "                    # [FreedomCoefficients, FreedomYintercept],[GenerosityCoefficients, GenerosityYintercept],\n",
    "                     # [TrustGovtCoefficients, TrustGovtYintercept], [DystopiaCoefficients, DystopiaYintercept]}          ]"
   ]
  }
 ],
 "metadata": {
  "kernelspec": {
   "display_name": "Python 3",
   "language": "python",
   "name": "python3"
  },
  "language_info": {
   "codemirror_mode": {
    "name": "ipython",
    "version": 3
   },
   "file_extension": ".py",
   "mimetype": "text/x-python",
   "name": "python",
   "nbconvert_exporter": "python",
   "pygments_lexer": "ipython3",
   "version": "3.7.3"
  }
 },
 "nbformat": 4,
 "nbformat_minor": 2
}
